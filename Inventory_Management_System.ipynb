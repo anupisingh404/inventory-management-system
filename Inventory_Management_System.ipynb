{
 "cells": [
  {
   "cell_type": "markdown",
   "id": "89588f00",
   "metadata": {},
   "source": [
    "## Loading products from json"
   ]
  },
  {
   "cell_type": "code",
   "execution_count": null,
   "id": "e4ac3041",
   "metadata": {},
   "outputs": [],
   "source": [
    "import json\n",
    "\n",
    "# Loading products from json file\n",
    "data = open(\"Products.json\", 'r')\n",
    "r = data.read()\n",
    "data.close()\n",
    "products = json.loads(r)\n",
    "    "
   ]
  },
  {
   "cell_type": "markdown",
   "id": "cc8d1a77",
   "metadata": {},
   "source": [
    "## Showing all products"
   ]
  },
  {
   "cell_type": "code",
   "execution_count": 37,
   "id": "c55b4f71",
   "metadata": {},
   "outputs": [
    {
     "data": {
      "text/plain": [
       "{'404181401': {'name': 'Dark Chocholates',\n",
       "  'mfd_date': '2021-09-20',\n",
       "  'exp_date': '2021-10-20',\n",
       "  'qty': 35,\n",
       "  'price': 200},\n",
       " '404181402': {'name': 'Brown Breads',\n",
       "  'mfd_date': '2021-09-20',\n",
       "  'exp_date': '2021-10-20',\n",
       "  'qty': 20,\n",
       "  'price': 100},\n",
       " '404181403': {'name': 'Milk 1 ltr',\n",
       "  'mfd_date': '2021-09-20',\n",
       "  'exp_date': '2021-09-22',\n",
       "  'qty': 46,\n",
       "  'price': 60},\n",
       " '404181404': {'name': 'Icecream Chocholates',\n",
       "  'mfd_date': '2021-10-20',\n",
       "  'exp_date': '2021-11-20',\n",
       "  'qty': 100,\n",
       "  'price': 150},\n",
       " '404181405': {'name': 'Icecream Vanilla',\n",
       "  'mfd_date': '2021-10-20',\n",
       "  'exp_date': '2021-11-20',\n",
       "  'qty': 95,\n",
       "  'price': 150},\n",
       " '404181406': {'name': 'Icecream Butter Scotch',\n",
       "  'mfd_date': '2021-10-20',\n",
       "  'exp_date': '2021-11-20',\n",
       "  'qty': 100,\n",
       "  'price': 150},\n",
       " '404181407': {'name': 'Coffee Powder 500g',\n",
       "  'mfd_date': '2021-10-20',\n",
       "  'exp_date': '2022-11-20',\n",
       "  'qty': 80,\n",
       "  'price': 400},\n",
       " '404181408': {'name': 'Mustered Oil 1 ltr',\n",
       "  'mfd_date': '2021-10-20',\n",
       "  'exp_date': '2023-10-20',\n",
       "  'qty': 500,\n",
       "  'price': 180},\n",
       " '404181409': {'name': 'Coconut Oil 500g',\n",
       "  'mfd_date': '2021-10-20',\n",
       "  'exp_date': '2023-10-20',\n",
       "  'qty': 30,\n",
       "  'price': 300},\n",
       " '404181410': {'name': 'Turmuric 200g',\n",
       "  'mfd_date': '2021-10-20',\n",
       "  'exp_date': '2022-10-20',\n",
       "  'qty': 20,\n",
       "  'price': 350},\n",
       " '404181411': {'name': 'Suger 1 kg [acket',\n",
       "  'mfd_date': '2021-10-20',\n",
       "  'exp_date': '2024-10-20',\n",
       "  'qty': 30,\n",
       "  'price': 50},\n",
       " '404181412': {'name': 'Salt 1 kg',\n",
       "  'mfd_date': '2021-10-20',\n",
       "  'exp_date': '2022-10-20',\n",
       "  'qty': 50,\n",
       "  'price': 30},\n",
       " '404181413': {'name': 'Besan 1 kg',\n",
       "  'mfd_date': '2021-10-20',\n",
       "  'exp_date': '2022-10-20',\n",
       "  'qty': 50,\n",
       "  'price': 200},\n",
       " '404181414': {'name': 'Face wash',\n",
       "  'mfd_date': '2021-10-20',\n",
       "  'exp_date': '2023-10-20',\n",
       "  'qty': 50,\n",
       "  'price': 300},\n",
       " '404181415': {'name': 'Biscuits',\n",
       "  'mfd_date': '2021-10-20',\n",
       "  'exp_date': '2022-10-20',\n",
       "  'qty': 50,\n",
       "  'price': 100},\n",
       " '404181416': {'name': 'Bath Soap',\n",
       "  'mfd_date': '2021-10-20',\n",
       "  'exp_date': '2023-10-20',\n",
       "  'qty': 50,\n",
       "  'price': 70},\n",
       " '404181417': {'name': 'Detergent powder 1 kg',\n",
       "  'mfd_date': '2021-10-20',\n",
       "  'exp_date': '2023-10-20',\n",
       "  'qty': 50,\n",
       "  'price': 450},\n",
       " '404181418': {'name': 'Dish Washer',\n",
       "  'mfd_date': '2021-10-20',\n",
       "  'exp_date': '2023-10-20',\n",
       "  'qty': 50,\n",
       "  'price': 400},\n",
       " '404181419': {'name': 'Tooth Paste',\n",
       "  'mfd_date': '2021-10-20',\n",
       "  'exp_date': '2022-10-20',\n",
       "  'qty': 100,\n",
       "  'price': 100},\n",
       " '404181420': {'name': 'Face Cream',\n",
       "  'mfd_date': '2021-10-20',\n",
       "  'exp_date': '2023-10-20',\n",
       "  'qty': 30,\n",
       "  'price': 350},\n",
       " '404181421': {'name': 'Hair Oil',\n",
       "  'mfd_date': '2021-10-20',\n",
       "  'exp_date': '2022-10-20',\n",
       "  'qty': 50,\n",
       "  'price': 521},\n",
       " '404181422': {'name': 'Shampoo',\n",
       "  'mfd_date': '2021-10-20',\n",
       "  'exp_date': '2023-10-20',\n",
       "  'qty': 100,\n",
       "  'price': 300},\n",
       " '404181423': {'name': 'Hair Conditioner',\n",
       "  'mfd_date': '2021-10-20',\n",
       "  'exp_date': '2023-10-20',\n",
       "  'qty': 60,\n",
       "  'price': 350},\n",
       " '404181424': {'name': 'Body Lotion',\n",
       "  'mfd_date': '2021-10-20',\n",
       "  'exp_date': '2023-10-20',\n",
       "  'qty': 120,\n",
       "  'price': 240},\n",
       " '404181425': {'name': 'Dry Fruits',\n",
       "  'mfd_date': '2021-10-20',\n",
       "  'exp_date': '2023-10-20',\n",
       "  'qty': 50,\n",
       "  'price': 600},\n",
       " '404181426': {'name': 'Soft Drinks',\n",
       "  'mfd_date': '2021-10-20',\n",
       "  'exp_date': '2022-10-20',\n",
       "  'qty': 200,\n",
       "  'price': 100},\n",
       " '404181427': {'name': 'Moisturizer',\n",
       "  'mfd_date': '2021-10-20',\n",
       "  'exp_date': '2022-10-20',\n",
       "  'qty': 50,\n",
       "  'price': 200},\n",
       " '404181428': {'name': 'Hand Wash',\n",
       "  'mfd_date': '2021-10-20',\n",
       "  'exp_date': '2022-10-20',\n",
       "  'qty': 500,\n",
       "  'price': 200},\n",
       " '404181429': {'name': 'Hand Sanitizer',\n",
       "  'mfd_date': '2021-10-20',\n",
       "  'exp_date': '2024-10-20',\n",
       "  'qty': 50,\n",
       "  'price': 150},\n",
       " '404181430': {'name': 'Pickles',\n",
       "  'mfd_date': '2021-10-20',\n",
       "  'exp_date': '2022-10-20',\n",
       "  'qty': 500,\n",
       "  'price': 100}}"
      ]
     },
     "execution_count": 37,
     "metadata": {},
     "output_type": "execute_result"
    }
   ],
   "source": [
    "# Showing all products\n",
    "products"
   ]
  },
  {
   "cell_type": "markdown",
   "id": "a14ddd24",
   "metadata": {},
   "source": [
    "## Search product with product id(Key)"
   ]
  },
  {
   "cell_type": "code",
   "execution_count": 31,
   "id": "1631881b",
   "metadata": {},
   "outputs": [
    {
     "name": "stdout",
     "output_type": "stream",
     "text": [
      "Please enter product id : 404181401\n"
     ]
    },
    {
     "data": {
      "text/plain": [
       "{'name': 'Dark Chocholates',\n",
       " 'mfd_date': '2021-09-20',\n",
       " 'exp_date': '2021-10-20',\n",
       " 'qty': 50,\n",
       " 'price': 200}"
      ]
     },
     "execution_count": 31,
     "metadata": {},
     "output_type": "execute_result"
    }
   ],
   "source": [
    "# Search product with product id(key)\n",
    "prod_id = input(\"Please enter product id : \")\n",
    "products[prod_id]"
   ]
  },
  {
   "cell_type": "markdown",
   "id": "258e0844",
   "metadata": {},
   "source": [
    "## Check that if user interested to buy a product "
   ]
  },
  {
   "cell_type": "code",
   "execution_count": 32,
   "id": "70e15c26",
   "metadata": {},
   "outputs": [
    {
     "name": "stdout",
     "output_type": "stream",
     "text": [
      "Would you like to buy a product? (y/n)y\n",
      "Please enter your details:\n",
      "Please enter you name:  Anupi\n",
      "Please enter your phone number: 9832746227\n",
      "Please enter your email id:  an@hmail.com\n",
      "Please enter your address: delhi\n",
      "Thanks for sharing your info:).How many products you want to buy?2\n",
      "Please enter the product_Id for product 1: 404181401\n",
      "Please enter the quantity for product 1: 15\n",
      "Please enter the product_Id for product 2: 404181402\n",
      "Please enter the quantity for product 2: 30\n"
     ]
    }
   ],
   "source": [
    "# Check  that if user interested to buy a product \n",
    "is_interested = input(\"Would you like to buy a product? (y/n)\")\n",
    "\n",
    "sale_dict = dict()\n",
    "prod_sale_list = []\n",
    "total_amount = 0\n",
    "is_billing = False\n",
    "\n",
    "if is_interested == 'y':\n",
    "    print(\"Please enter your details:\")\n",
    "    u_name = input(\"Please enter you name:  \")\n",
    "    u_number = input(\"Please enter your phone number: \")\n",
    "    u_email = input(\"Please enter your email id:  \")\n",
    "    u_address = input(\"Please enter your address: \")\n",
    "    product_count = input(\"Thanks for sharing your info:).How many products you want to buy?\")\n",
    "    sale_dict[\"Name\"] = u_name\n",
    "    sale_dict[\"Mobile\"] = u_number\n",
    "    sale_dict[\"Email\"] = u_email\n",
    "    sale_dict[\"Address\"] = u_address\n",
    "    for pc in  range(1, int(product_count)+1):\n",
    "        u_prod  = str(input(\"Please enter the product_Id for product {}: \".format(str(pc))))\n",
    "        if not products.get(u_prod):\n",
    "            print(\"Oops!! Invalid product id!!\")\n",
    "            continue\n",
    "        else:    \n",
    "            u_quant = int(input(\"Please enter the quantity for product {}: \".format(str(pc))))\n",
    "            if not products[u_prod]['qty'] >= int(u_quant):\n",
    "                print(\"Oops!! qantity is out of stock.\")\n",
    "                continue\n",
    "            else:\n",
    "                products[u_prod]['qty'] -= int(u_quant)\n",
    "                is_billing = True\n",
    "                amount = int(u_quant) * int(products[u_prod]['price'])\n",
    "                total_amount += amount\n",
    "                prod_sale_list.append(\n",
    "                    {\n",
    "                        \"Product id\": u_prod,\n",
    "                        \"Product name\": products[u_prod][\"name\"],\n",
    "                        \"Quantity\": u_quant,\n",
    "                        \"Amount\": amount\n",
    "                    }\n",
    "                )\n",
    "    sale_dict[\"Product details\"] = prod_sale_list\n",
    "    sale_dict[\"Total Amount\"] = total_amount\n",
    "        \n",
    "else:\n",
    "    print(\"Thanks for coming :)\")    \n",
    "    "
   ]
  },
  {
   "cell_type": "markdown",
   "id": "bf9fbd36",
   "metadata": {},
   "source": [
    "## Billing And Save Sale Records"
   ]
  },
  {
   "cell_type": "code",
   "execution_count": 33,
   "id": "0006d5a8",
   "metadata": {},
   "outputs": [
    {
     "name": "stdout",
     "output_type": "stream",
     "text": [
      "**************************************************************************************\n",
      "Name:  Anupi\n",
      "Email:  an@hmail.com\n",
      "Phone Number:  9832746227\n",
      "Address:  delhi\n",
      "-------------------------Products Billing----------------------------\n",
      "---------Product Details-----------\n",
      "Product Name:  Dark Chocholates\n",
      "Product id:  404181401\n",
      "Price:  3000\n",
      "Quantity:  15\n",
      "---------Product Details-----------\n",
      "Product Name:  Brown Breads\n",
      "Product id:  404181402\n",
      "Price:  3000\n",
      "Quantity:  30\n",
      "----------------------------------------------------------------------\n",
      "Total: Rs. 6000\n",
      "**********************************Thanks For Coming:)***********************************\n"
     ]
    }
   ],
   "source": [
    "# Billing And Save Sale Records\n",
    "\n",
    "if is_billing:\n",
    "#     print(sale_dict)\n",
    "    data = open(\"Sales.json\", 'a')\n",
    "    # Update Sale json\n",
    "    js = json.dumps(sale_dict)\n",
    "    data.write(js)\n",
    "    data.close()\n",
    "    print(\"**************************************************************************************\")\n",
    "    print(\"Name: \", u_name)\n",
    "    print(\"Email: \", u_email)\n",
    "    print(\"Phone Number: \", u_number)\n",
    "    print(\"Address: \", u_address)\n",
    "    print(\"-------------------------Products Billing----------------------------\")\n",
    "    for p in prod_sale_list:\n",
    "        print(\"---------Product Details-----------\")\n",
    "        print(\"Product Name: \", p[\"Product name\"])\n",
    "        print(\"Product id: \", p[\"Product id\"])\n",
    "        print(\"Price: \", p[\"Amount\"])\n",
    "        print(\"Quantity: \", p[\"Quantity\"])\n",
    "    print(\"----------------------------------------------------------------------\")\n",
    "    print(\"Total: Rs.\", total_amount)\n",
    "    print(\"**********************************Thanks For Coming:)***********************************\")\n",
    "\n",
    "    "
   ]
  },
  {
   "cell_type": "markdown",
   "id": "988b2e31",
   "metadata": {},
   "source": [
    "## Update product json"
   ]
  },
  {
   "cell_type": "code",
   "execution_count": null,
   "id": "e5a65c50",
   "metadata": {},
   "outputs": [],
   "source": [
    "## Update product json\n",
    "\n",
    "updated_prod = json.dumps(products)\n",
    "\n",
    "s = open(\"Products.json\",'w')\n",
    "s.write(updated_prod)\n",
    "s.close()"
   ]
  },
  {
   "cell_type": "code",
   "execution_count": null,
   "id": "f9c5d143",
   "metadata": {},
   "outputs": [],
   "source": []
  }
 ],
 "metadata": {
  "kernelspec": {
   "display_name": "Python 3",
   "language": "python",
   "name": "python3"
  },
  "language_info": {
   "codemirror_mode": {
    "name": "ipython",
    "version": 3
   },
   "file_extension": ".py",
   "mimetype": "text/x-python",
   "name": "python",
   "nbconvert_exporter": "python",
   "pygments_lexer": "ipython3",
   "version": "3.8.8"
  }
 },
 "nbformat": 4,
 "nbformat_minor": 5
}
